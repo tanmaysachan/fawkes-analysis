{
 "cells": [
  {
   "cell_type": "code",
   "execution_count": 13,
   "id": "d445ac58-1588-4011-a368-ed637b3affa7",
   "metadata": {},
   "outputs": [],
   "source": [
    "import os\n",
    "import pickle as pkl"
   ]
  },
  {
   "cell_type": "code",
   "execution_count": 14,
   "id": "0a6f650e-6d76-4137-84fe-d79b3764c8be",
   "metadata": {},
   "outputs": [
    {
     "data": {
      "text/plain": [
       "['val', 'train']"
      ]
     },
     "execution_count": 14,
     "metadata": {},
     "output_type": "execute_result"
    }
   ],
   "source": [
    "os.listdir('./data')"
   ]
  },
  {
   "cell_type": "code",
   "execution_count": 23,
   "id": "9fd20311-81cd-4ed7-86e9-4d408deaff77",
   "metadata": {},
   "outputs": [],
   "source": [
    "image_dict = {}"
   ]
  },
  {
   "cell_type": "code",
   "execution_count": 24,
   "id": "d64b2131-a391-4e29-a4fa-f4c5b958937c",
   "metadata": {},
   "outputs": [],
   "source": [
    "splits = ['train', 'val']\n",
    "\n",
    "for split in splits:\n",
    "    for i in os.listdir('./data/{}'.format(split)):\n",
    "        prefix = './data/{}/{}/'.format(split, i)\n",
    "        images = os.listdir(prefix)\n",
    "        if i in image_dict:\n",
    "            image_dict[i] += images\n",
    "        else:\n",
    "            image_dict[i] = images\n",
    "\n",
    "for i in image_dict:\n",
    "    image_dict[i] = set(image_dict[i])"
   ]
  },
  {
   "cell_type": "code",
   "execution_count": 26,
   "id": "c40f2847-e4ee-4d69-ac00-cd388f713d4e",
   "metadata": {},
   "outputs": [],
   "source": [
    "\n",
    "with open('./image_dict.pkl', 'wb') as f:\n",
    "    pkl.dump(image_dict, f)"
   ]
  },
  {
   "cell_type": "markdown",
   "id": "87eda8a8-9a0c-4ec7-8f6b-cb75b9a61089",
   "metadata": {
    "tags": []
   },
   "source": [
    "#### Load and validate image dict"
   ]
  },
  {
   "cell_type": "code",
   "execution_count": 27,
   "id": "b16622d3-40cc-423b-813c-7b9cddca4874",
   "metadata": {},
   "outputs": [],
   "source": [
    "with open('./image_dict.pkl', 'rb') as f:\n",
    "    image_dict = pkl.load(f)"
   ]
  },
  {
   "cell_type": "code",
   "execution_count": 28,
   "id": "5d25fb67-7bd5-4917-95c8-a4710ad22207",
   "metadata": {},
   "outputs": [
    {
     "data": {
      "text/plain": [
       "{'httpafilesbiographycomimageuploadcfillcssrgbdprgfacehqwMTIwNjANjMMDINzIxNjcjpg.jpg',\n",
       " 'httpaurorasblogcomwpcontentuploadsjerryseinfeldpublicityshotjpg.jpg',\n",
       " 'httpblognjcomentertainmentimpactcelebritiesmediumjerrybjpg.jpg',\n",
       " 'httpcdncdnjustjaredcomwpcontentuploadsheadlinesjerryseinfeldmakesbrianwilliamsjokejpg.jpg',\n",
       " 'httpcdnssninsidercomwpcontentuploadsjerryseinfeldxjpg.jpg',\n",
       " 'httpgraphicsnytimescomimagessectionmoviesfilmographyWireImagejpg.jpg',\n",
       " 'httpikinjaimgcomgawkermediaimageuploadsWmIuhdsrcedidjpgjpg.jpg',\n",
       " 'httpimagescontactmusiccomnewsimagesjerryseinfeldjpg.jpg',\n",
       " 'httpimagesrottentomatoescomimagesspotlightsnewsjerryseinfeldjpg.jpg',\n",
       " 'httpimgthedrumcomsfspublicnewstmpjerryseinfeldjpg.jpg',\n",
       " 'httpimgtimeincnetpeopleinewsjerryseinfeldjpg.jpg',\n",
       " 'httpmediapopsugarassetscomfilesusersxlargejpg.jpg',\n",
       " 'httppfodcompchannelslegacyprofilejerryseinfeldpodcastjpg.jpg',\n",
       " 'httpsmedialivenationcomartiststapjpg.jpg',\n",
       " 'httpsrobertaccetturacomwpcontentuploadsjerryseinfeldheadshotjpg.jpg',\n",
       " 'httpstatictherichestimagescomcdncwpcontentuploadsJerrySeinfeldjpg.jpg',\n",
       " 'httpsticketmnettmenusdbimagesajpg.jpg',\n",
       " 'httpsuploadwikimediaorgwikipediacommonsthumbbJerrySeinfeldjpgpxJerrySeinfeldjpg.jpg',\n",
       " 'httpsuswestamazonawscomblogsprodmediausuploadsJerrySeinfeldkidsxjpg.jpg',\n",
       " 'httpswwwticketscomuploadsartistsjerryseinfeldbilletsjpg.jpg',\n",
       " 'httpwwweonlinecomresizewwweonlinecomeolimagesEntireSitersxjerryseinfeldjulialouisdreyfusjwjpg.jpg',\n",
       " 'httpwwwnndbcompeoplejerryseinfeldaujpg.jpg',\n",
       " 'httpwwwpictureszimbiocomgpJerrySeinfeldJessicaSeinfeldmarriedBczSipMdNMQljpg.jpg',\n",
       " 'httpwwwpsychiatrictimescomsitesdefaultfilesimagesmediaPTMofficSeinfeldjpg.jpg',\n",
       " 'httpwwwslatecomcontentdamslateblogsbrowbeatseinfeldjpgCROParticlemediumjpg.jpg',\n",
       " 'httpwwwwatchidcomsitesdefaultfilesuploadsightingBreitlingwatchJerrySeinfeldjpg.jpg'}"
      ]
     },
     "execution_count": 28,
     "metadata": {},
     "output_type": "execute_result"
    }
   ],
   "source": [
    "image_dict['jerry_seinfeld']"
   ]
  },
  {
   "cell_type": "code",
   "execution_count": null,
   "id": "4d9dc7b1-05d4-4519-8f99-875583fc7439",
   "metadata": {},
   "outputs": [],
   "source": []
  },
  {
   "cell_type": "code",
   "execution_count": 29,
   "id": "bfbafb8c-a2a5-4358-9bdf-ee264a07e6a4",
   "metadata": {},
   "outputs": [],
   "source": [
    "images_dir = os.listdir('./images')"
   ]
  },
  {
   "cell_type": "code",
   "execution_count": 30,
   "id": "c7fd2b38-2fe6-4263-bbcd-ea5f2425b5c9",
   "metadata": {},
   "outputs": [],
   "source": [
    "for i in images_dir:\n",
    "    found = False\n",
    "    for imgs in image_dict:\n",
    "        if i in image_dict[imgs]:\n",
    "            found = True\n",
    "    \n",
    "    if found == False:\n",
    "        print(i)\n",
    "        print('NOT FOUND')"
   ]
  },
  {
   "cell_type": "code",
   "execution_count": null,
   "id": "b9f84a74-561a-4741-8d4c-77d04e6ae1a9",
   "metadata": {},
   "outputs": [],
   "source": []
  },
  {
   "cell_type": "code",
   "execution_count": null,
   "id": "3ce36778-360a-411a-99b9-cc0e754401c5",
   "metadata": {},
   "outputs": [],
   "source": []
  }
 ],
 "metadata": {
  "kernelspec": {
   "display_name": "Python [conda env:nlp] *",
   "language": "python",
   "name": "conda-env-nlp-py"
  },
  "language_info": {
   "codemirror_mode": {
    "name": "ipython",
    "version": 3
   },
   "file_extension": ".py",
   "mimetype": "text/x-python",
   "name": "python",
   "nbconvert_exporter": "python",
   "pygments_lexer": "ipython3",
   "version": "3.7.10"
  }
 },
 "nbformat": 4,
 "nbformat_minor": 5
}
