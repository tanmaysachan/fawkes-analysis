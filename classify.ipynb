{
 "cells": [
  {
   "cell_type": "markdown",
   "id": "125d8da5-2d2b-4bcb-86d3-bc36448320b0",
   "metadata": {},
   "source": [
    "## Fawkes target variance"
   ]
  },
  {
   "cell_type": "markdown",
   "id": "3d63c600-ce9e-4121-9c86-252e90467218",
   "metadata": {},
   "source": [
    "*Cells not run in order, do not re-run for duplication"
   ]
  },
  {
   "cell_type": "code",
   "execution_count": 2,
   "id": "38070e3f-84e7-41b3-9558-a36438e18844",
   "metadata": {},
   "outputs": [],
   "source": [
    "import numpy as np\n",
    "import pandas as pd\n",
    "import pickle as pkl\n",
    "from sklearn.decomposition import PCA\n",
    "import matplotlib\n",
    "import matplotlib.pyplot as plt\n",
    "import random\n",
    "from sklearn.cluster import KMeans\n",
    "from keras_vggface.utils import decode_predictions"
   ]
  },
  {
   "cell_type": "code",
   "execution_count": null,
   "id": "d10b0fa1-04f7-49ab-8ec7-d52743ae7b8d",
   "metadata": {},
   "outputs": [],
   "source": []
  },
  {
   "cell_type": "code",
   "execution_count": 3,
   "id": "aa31da4e-b1e3-4717-8295-995d7288e2cf",
   "metadata": {},
   "outputs": [],
   "source": [
    "with open('./image_embed.pkl', 'rb') as f:\n",
    "    image_embed = pkl.load(f)"
   ]
  },
  {
   "cell_type": "code",
   "execution_count": 4,
   "id": "be6e881f-b137-4e7c-86e9-9eb12a90bbf0",
   "metadata": {},
   "outputs": [],
   "source": [
    "with open('./image_dict.pkl', 'rb') as f:\n",
    "    image_dict = pkl.load(f)"
   ]
  },
  {
   "cell_type": "code",
   "execution_count": 5,
   "id": "0d667e54-597f-4c20-a7f2-18401c2cb34f",
   "metadata": {},
   "outputs": [
    {
     "data": {
      "text/plain": [
       "dict_keys(['mindy_kaling', 'jerry_seinfeld', 'ben_afflek', 'elton_john', 'madonna'])"
      ]
     },
     "execution_count": 5,
     "metadata": {},
     "output_type": "execute_result"
    }
   ],
   "source": [
    "image_dict.keys()"
   ]
  },
  {
   "cell_type": "code",
   "execution_count": 45,
   "id": "b535aab8-861c-445c-b956-e99047c9ffe8",
   "metadata": {},
   "outputs": [],
   "source": [
    "actor = 'mindy_kaling'\n",
    "_id = \"b'Mindy_Kaling'\""
   ]
  },
  {
   "cell_type": "code",
   "execution_count": 120,
   "id": "b8fc33f2-e5a7-44bd-a829-7ff13b15d797",
   "metadata": {},
   "outputs": [
    {
     "data": {
      "text/plain": [
       "[[\"b'Mindy_Kaling'\", 0.15071206],\n",
       " [\"b'Mercedes_Ruehl'\", 0.19137204],\n",
       " [\"b'Virginie_Ledoyen'\", 0.02232925],\n",
       " [\"b'Leonor_Varela'\", 0.2902778],\n",
       " [\"b'Mindy_Kaling'\", 0.9150362],\n",
       " [\"b'Jessie_J'\", 0.096710235],\n",
       " [\"b'Branka_Katic'\", 0.104401395],\n",
       " [\"b'Mindy_Kaling'\", 0.9259999],\n",
       " [\"b'Dawna_Lee_Heising'\", 0.079223365],\n",
       " [\"b'Mindy_Kaling'\", 0.6443156],\n",
       " [\"b'Shohreh_Aghdashloo'\", 0.059288196],\n",
       " [\"b'Marisol_Nichols'\", 0.06220526],\n",
       " [\"b'Vidya_Balan'\", 0.062225014],\n",
       " [\"b'Sherri_Saum'\", 0.13305317],\n",
       " [\"b'Mindy_Kaling'\", 0.22079475],\n",
       " [\"b'Farrah_Abraham'\", 0.4439012],\n",
       " [\"b'Heather_Tom'\", 0.07456778],\n",
       " [\"b'Callie_Thorne'\", 0.0841517],\n",
       " [\"b'Veronica_Ferres'\", 0.63967574],\n",
       " [\"b'Candice_Swanepoel'\", 0.17047052],\n",
       " [\"b'Kylie_Minogue'\", 0.2201086],\n",
       " [\"b'Susan_Blakely'\", 0.06770218],\n",
       " [\"b'Karoline_Herfurth'\", 0.20039627],\n",
       " [\"b'Daniela_Ruah'\", 0.22851975],\n",
       " [\"b'Vanessa_Lachey'\", 0.34742123],\n",
       " [\"b'Adriana_Barraza'\", 0.39074728],\n",
       " [\"b'Mindy_Kaling'\", 0.9267435]]"
      ]
     },
     "execution_count": 120,
     "metadata": {},
     "output_type": "execute_result"
    }
   ],
   "source": [
    "face_cloaked = [i[:-4] + '_cloaked.jpeg' for i in image_dict[actor]]\n",
    "predictions_cloaked = [decode_predictions(image_embed[i])[0][0] for i in face_cloaked]\n",
    "\n",
    "correct_preds = [0 for _ in range(len(predictions_cloaked))]\n",
    "for i in range(len(predictions_cloaked)):\n",
    "    if predictions_cloaked[i][0] == _id:\n",
    "        correct_preds[i] = 1\n",
    "\n",
    "predictions_cloaked"
   ]
  },
  {
   "cell_type": "code",
   "execution_count": 108,
   "id": "a07fa816-d8e0-436a-b0de-eff0e7c84f4a",
   "metadata": {},
   "outputs": [
    {
     "data": {
      "text/plain": [
       "[[\"b'Mindy_Kaling'\", 0.928031],\n",
       " [\"b'Mercedes_Ruehl'\", 0.14017145],\n",
       " [\"b'Virginie_Ledoyen'\", 0.028823102],\n",
       " [\"b'Mindy_Kaling'\", 0.96284455],\n",
       " [\"b'Mindy_Kaling'\", 0.9938107],\n",
       " [\"b'Mindy_Kaling'\", 0.4185429],\n",
       " [\"b'Branka_Katic'\", 0.07857431],\n",
       " [\"b'Mindy_Kaling'\", 0.9577685],\n",
       " [\"b'Adriana_Barraza'\", 0.1570321],\n",
       " [\"b'Mindy_Kaling'\", 0.992362],\n",
       " [\"b'Mindy_Kaling'\", 0.96357805],\n",
       " [\"b'Mindy_Kaling'\", 0.9737082],\n",
       " [\"b'Vidya_Balan'\", 0.060402002],\n",
       " [\"b'Mindy_Kaling'\", 0.9588317],\n",
       " [\"b'Mindy_Kaling'\", 0.9140493],\n",
       " [\"b'Mindy_Sterling'\", 0.26405418],\n",
       " [\"b'Mindy_Kaling'\", 0.9830357],\n",
       " [\"b'Mindy_Kaling'\", 0.98927003],\n",
       " [\"b'Mindy_Kaling'\", 0.97736007],\n",
       " [\"b'Jessie_J'\", 0.09812361],\n",
       " [\"b'Alexia_Fast'\", 0.041302353],\n",
       " [\"b'Mindy_Kaling'\", 0.98469204],\n",
       " [\"b'Mindy_Kaling'\", 0.9902136],\n",
       " [\"b'Mindy_Kaling'\", 0.36944234],\n",
       " [\"b'Mindy_Kaling'\", 0.86932516],\n",
       " [\"b'Mindy_Kaling'\", 0.9879055],\n",
       " [\"b'Mindy_Kaling'\", 0.9911725]]"
      ]
     },
     "execution_count": 108,
     "metadata": {},
     "output_type": "execute_result"
    }
   ],
   "source": [
    "face = image_dict[actor]\n",
    "predictions = [decode_predictions(image_embed[i])[0][0] for i in face]\n",
    "predictions\n",
    "\n",
    "# Comment out if not running pca for cloaked\n",
    "correct_preds = [0 for _ in range(len(predictions))]\n",
    "for i in range(len(predictions)):\n",
    "    if predictions[i][0] == _id:\n",
    "        correct_preds[i] = 1\n",
    "\n",
    "predictions"
   ]
  },
  {
   "cell_type": "code",
   "execution_count": null,
   "id": "84dc18a5-8fee-456a-ba2d-29a2d670f2ff",
   "metadata": {},
   "outputs": [],
   "source": []
  },
  {
   "cell_type": "code",
   "execution_count": 121,
   "id": "485d5808-1491-4386-abb9-16fd72225b18",
   "metadata": {},
   "outputs": [],
   "source": [
    "def get_cloaked_embeddings(actor):\n",
    "    face_cloaked = [i[:-4] + '_cloaked.jpeg' for i in image_dict[actor]]\n",
    "    # Uncomment for uncloaked\n",
    "    # face_cloaked = image_dict[actor]\n",
    "    face_cloaked_embeds = np.array([image_embed[i] for i in face_cloaked])\n",
    "    shape = face_cloaked_embeds.shape\n",
    "    face_cloaked_embeds = face_cloaked_embeds.reshape((shape[0], -1))\n",
    "    return face_cloaked_embeds"
   ]
  },
  {
   "cell_type": "code",
   "execution_count": 122,
   "id": "4615fdac-48b7-4035-9d48-2ae80adc25e2",
   "metadata": {},
   "outputs": [],
   "source": [
    "face_cloaked_embeds = get_cloaked_embeddings(actor)"
   ]
  },
  {
   "cell_type": "code",
   "execution_count": 123,
   "id": "371ae7f3-d8b7-41e4-b65c-51c76b6cbd88",
   "metadata": {},
   "outputs": [],
   "source": [
    "def get_pca_df(embeds):\n",
    "    components = 2\n",
    "    \n",
    "    pca = PCA(n_components=components)\n",
    "    pca_df = pd.DataFrame(pca.fit_transform(embeds))\n",
    "    pca_df.columns = ['PC{}'.format(i) for i in range(1, components+1)]\n",
    "    return pca_df"
   ]
  },
  {
   "cell_type": "code",
   "execution_count": 124,
   "id": "0535286b-3aff-43b4-9d43-7a7aea97ccb8",
   "metadata": {},
   "outputs": [],
   "source": [
    "pca_df = get_pca_df(face_cloaked_embeds)"
   ]
  },
  {
   "cell_type": "code",
   "execution_count": 125,
   "id": "509e0f7e-0563-4c69-b616-b68a2e43e055",
   "metadata": {},
   "outputs": [],
   "source": [
    "kmeans = KMeans(n_clusters=2, random_state=0).fit(face_cloaked_embeds)"
   ]
  },
  {
   "cell_type": "code",
   "execution_count": 126,
   "id": "c773341a-84b8-4f3f-ae49-43ca9c04b0a9",
   "metadata": {},
   "outputs": [],
   "source": [
    "pca_df['labels'] = kmeans.labels_\n",
    "pca_df['correct'] = correct_preds"
   ]
  },
  {
   "cell_type": "markdown",
   "id": "8167a7b7-65d1-46fd-ae76-daa45a1a07dc",
   "metadata": {},
   "source": [
    "### Uncloaked PCA and Kmeans"
   ]
  },
  {
   "cell_type": "code",
   "execution_count": 119,
   "id": "dc90245d-0440-493a-aa2f-fd76773191d4",
   "metadata": {},
   "outputs": [
    {
     "data": {
      "image/png": "[encoded data removed]",
      "text/plain": [
       "<Figure size 576x576 with 1 Axes>"
      ]
     },
     "metadata": {
      "needs_background": "light"
     },
     "output_type": "display_data"
    }
   ],
   "source": [
    "fig, ax = plt.subplots(figsize=(8, 8))\n",
    "\n",
    "x = pca_df['PC1']\n",
    "y = pca_df['PC2']\n",
    "z = pca_df['correct']\n",
    "\n",
    "colors = ['red', 'blue', 'green']\n",
    "\n",
    "ax.scatter(x, y, c=pca_df['labels'], cmap=matplotlib.colors.ListedColormap(colors))\n",
    "\n",
    "for i, txt in enumerate(z):\n",
    "    if txt == 1:\n",
    "        ax.annotate(str('true'), (x[i], y[i]))\n",
    "\n",
    "plt.title('Scatter plot of PCA')\n",
    "plt.xlabel('PCA_1')\n",
    "plt.ylabel('PCA_2')\n",
    "plt.show()"
   ]
  },
  {
   "cell_type": "code",
   "execution_count": null,
   "id": "53b04c0e-5885-46b6-b20b-2a41b3902ace",
   "metadata": {},
   "outputs": [],
   "source": []
  },
  {
   "cell_type": "markdown",
   "id": "cf381af5-a3bb-45a1-8674-352ea5ed56c9",
   "metadata": {},
   "source": [
    "## Cloaked PCA and Kmeans"
   ]
  },
  {
   "cell_type": "code",
   "execution_count": 128,
   "id": "c3523874-800d-4da3-85c6-ea157ee19e5b",
   "metadata": {},
   "outputs": [
    {
     "data": {
      "image/png": "[encoded data removed]",
      "text/plain": [
       "<Figure size 576x576 with 1 Axes>"
      ]
     },
     "metadata": {
      "needs_background": "light"
     },
     "output_type": "display_data"
    }
   ],
   "source": [
    "\n",
    "fig, ax = plt.subplots(figsize=(8, 8))\n",
    "\n",
    "x = pca_df['PC1']\n",
    "y = pca_df['PC2']\n",
    "z = pca_df['correct']\n",
    "\n",
    "colors = ['red', 'blue', 'green']\n",
    "\n",
    "ax.scatter(x, y, c=pca_df['labels'], cmap=matplotlib.colors.ListedColormap(colors))\n",
    "\n",
    "for i, txt in enumerate(z):\n",
    "    if txt == 1:\n",
    "        ax.annotate(str('true'), (x[i], y[i]))\n",
    "\n",
    "plt.title('Scatter plot of PCA')\n",
    "plt.xlabel('PCA_1')\n",
    "plt.ylabel('PCA_2')\n",
    "plt.show()"
   ]
  },
  {
   "cell_type": "code",
   "execution_count": null,
   "id": "9550f9f7-c183-434b-8216-207a7731258f",
   "metadata": {},
   "outputs": [],
   "source": []
  }
 ],
 "metadata": {
  "kernelspec": {
   "display_name": "Python [conda env:nlp] *",
   "language": "python",
   "name": "conda-env-nlp-py"
  },
  "language_info": {
   "codemirror_mode": {
    "name": "ipython",
    "version": 3
   },
   "file_extension": ".py",
   "mimetype": "text/x-python",
   "name": "python",
   "nbconvert_exporter": "python",
   "pygments_lexer": "ipython3",
   "version": "3.7.10"
  }
 },
 "nbformat": 4,
 "nbformat_minor": 5
}
