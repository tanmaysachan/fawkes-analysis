{
 "cells": [
  {
   "cell_type": "code",
   "execution_count": 13,
   "id": "d445ac58-1588-4011-a368-ed637b3affa7",
   "metadata": {},
   "outputs": [],
   "source": [
    "import os\n",
    "import pickle as pkl"
   ]
  },
  {
   "cell_type": "code",
   "execution_count": 14,
   "id": "0a6f650e-6d76-4137-84fe-d79b3764c8be",
   "metadata": {},
   "outputs": [
    {
     "data": {
      "text/plain": [
       "['val', 'train']"
      ]
     },
     "execution_count": 14,
     "metadata": {},
     "output_type": "execute_result"
    }
   ],
   "source": [
    "os.listdir('./data')"
   ]
  },
  {
   "cell_type": "code",
   "execution_count": 15,
   "id": "9fd20311-81cd-4ed7-86e9-4d408deaff77",
   "metadata": {},
   "outputs": [],
   "source": [
    "image_dict = {}"
   ]
  },
  {
   "cell_type": "code",
   "execution_count": 27,
   "id": "d64b2131-a391-4e29-a4fa-f4c5b958937c",
   "metadata": {},
   "outputs": [],
   "source": [
    "splits = ['train', 'val']\n",
    "\n",
    "for split in splits:\n",
    "    for face in os.listdir('./data/{}'.format(split)):\n",
    "        prefix = './data/train/{}/'.format(face)\n",
    "        images = os.listdir(prefix)\n",
    "        if i in image_dict:\n",
    "            image_dict[i] += images\n",
    "        else:\n",
    "            image_dict[i] = images\n",
    "\n",
    "for i in image_dict:\n",
    "    image_dict[i] = set(image_dict[i])"
   ]
  },
  {
   "cell_type": "code",
   "execution_count": 29,
   "id": "0d1e6294-fdd9-482f-9988-0deb33ac4092",
   "metadata": {},
   "outputs": [
    {
     "data": {
      "text/plain": [
       "22"
      ]
     },
     "execution_count": 29,
     "metadata": {},
     "output_type": "execute_result"
    }
   ],
   "source": [
    "len(image_dict['mindy_kaling'])"
   ]
  },
  {
   "cell_type": "code",
   "execution_count": 32,
   "id": "c40f2847-e4ee-4d69-ac00-cd388f713d4e",
   "metadata": {},
   "outputs": [],
   "source": [
    "\n",
    "with open('./image_dict.pkl', 'wb') as f:\n",
    "    pkl.dump(image_dict, f)"
   ]
  },
  {
   "cell_type": "markdown",
   "id": "87eda8a8-9a0c-4ec7-8f6b-cb75b9a61089",
   "metadata": {},
   "source": [
    "## Load image dict"
   ]
  },
  {
   "cell_type": "code",
   "execution_count": 6,
   "id": "b16622d3-40cc-423b-813c-7b9cddca4874",
   "metadata": {},
   "outputs": [],
   "source": [
    "with open('./image_dict.pkl', 'rb') as f:\n",
    "    image_dict = pkl.load(f)"
   ]
  },
  {
   "cell_type": "code",
   "execution_count": 12,
   "id": "5d25fb67-7bd5-4917-95c8-a4710ad22207",
   "metadata": {},
   "outputs": [
    {
     "data": {
      "text/plain": [
       "{'httpgraphicsnytimescomimagessectionmoviesfilmographyWireImagejpg.jpg',\n",
       " 'httpikinjaimgcomgawkermediaimageuploadsWmIuhdsrcedidjpgjpg.jpg',\n",
       " 'httpimagescontactmusiccomnewsimagesjerryseinfeldjpg.jpg',\n",
       " 'httpimagesrottentomatoescomimagesspotlightsnewsjerryseinfeldjpg.jpg',\n",
       " 'httpimgthedrumcomsfspublicnewstmpjerryseinfeldjpg.jpg',\n",
       " 'httpimgtimeincnetpeopleinewsjerryseinfeldjpg.jpg',\n",
       " 'httpmediapopsugarassetscomfilesusersxlargejpg.jpg',\n",
       " 'httppfodcompchannelslegacyprofilejerryseinfeldpodcastjpg.jpg',\n",
       " 'httpsmedialivenationcomartiststapjpg.jpg',\n",
       " 'httpsrobertaccetturacomwpcontentuploadsjerryseinfeldheadshotjpg.jpg',\n",
       " 'httpstatictherichestimagescomcdncwpcontentuploadsJerrySeinfeldjpg.jpg',\n",
       " 'httpsticketmnettmenusdbimagesajpg.jpg',\n",
       " 'httpsuploadwikimediaorgwikipediacommonsthumbbJerrySeinfeldjpgpxJerrySeinfeldjpg.jpg',\n",
       " 'httpsuswestamazonawscomblogsprodmediausuploadsJerrySeinfeldkidsxjpg.jpg',\n",
       " 'httpswwwticketscomuploadsartistsjerryseinfeldbilletsjpg.jpg',\n",
       " 'httpwwweonlinecomresizewwweonlinecomeolimagesEntireSitersxjerryseinfeldjulialouisdreyfusjwjpg.jpg',\n",
       " 'httpwwwnndbcompeoplejerryseinfeldaujpg.jpg',\n",
       " 'httpwwwpictureszimbiocomgpJerrySeinfeldJessicaSeinfeldmarriedBczSipMdNMQljpg.jpg',\n",
       " 'httpwwwpsychiatrictimescomsitesdefaultfilesimagesmediaPTMofficSeinfeldjpg.jpg',\n",
       " 'httpwwwslatecomcontentdamslateblogsbrowbeatseinfeldjpgCROParticlemediumjpg.jpg',\n",
       " 'httpwwwwatchidcomsitesdefaultfilesuploadsightingBreitlingwatchJerrySeinfeldjpg.jpg'}"
      ]
     },
     "execution_count": 12,
     "metadata": {},
     "output_type": "execute_result"
    }
   ],
   "source": [
    "image_dict['jerry_seinfeld']"
   ]
  },
  {
   "cell_type": "code",
   "execution_count": null,
   "id": "4d9dc7b1-05d4-4519-8f99-875583fc7439",
   "metadata": {},
   "outputs": [],
   "source": []
  },
  {
   "cell_type": "code",
   "execution_count": 8,
   "id": "bfbafb8c-a2a5-4358-9bdf-ee264a07e6a4",
   "metadata": {},
   "outputs": [],
   "source": [
    "images_dir = os.listdir('./images')"
   ]
  },
  {
   "cell_type": "code",
   "execution_count": 10,
   "id": "c7fd2b38-2fe6-4263-bbcd-ea5f2425b5c9",
   "metadata": {},
   "outputs": [
    {
     "name": "stdout",
     "output_type": "stream",
     "text": [
      "httpcsvkmeuaafdfjpg.jpg\n",
      "NOT FOUND\n",
      "httpblognjcomentertainmentimpactcelebritiesmediumjerrybjpg.jpg\n",
      "NOT FOUND\n",
      "httpecximagesamazoncomimagesIfmaBKWLACULSRjpg.jpg\n",
      "NOT FOUND\n",
      "httpafilesbiographycomimageuploadcfillcssrgbdprgfacehqwMTIwNjANjMMDINzIxNjcjpg.jpg\n",
      "NOT FOUND\n",
      "httpcdnpastemagazinecomwwwarticlesmindyprojectjpg.jpg\n",
      "NOT FOUND\n",
      "httpabsolumentgratuitfreefrimagesbenaffleckjpg.jpg\n",
      "NOT FOUND\n",
      "httpbpblogspotcomedLMjVpRGkSWexgsXjkNIAAAAAAAADWgFFtAUqBlhAsjpg.jpg\n",
      "NOT FOUND\n",
      "httpafilesbiographycomimageuploadcfillcssrgbdprgfacehqwMTIOTcwODQNTUzNjQMzcjpg.jpg\n",
      "NOT FOUND\n",
      "httpcdncdnjustjaredcomwpcontentuploadsheadlineseltonjohnstillstandingbrooklynnewyearsjpg.jpg\n",
      "NOT FOUND\n",
      "httpcdncdnjustjaredcomwpcontentuploadsheadlinesjerryseinfeldmakesbrianwilliamsjokejpg.jpg\n",
      "NOT FOUND\n",
      "httpcdncdnjustjaredcomwpcontentuploadsheadlinesmadonnatalksparisattackstearsjpg.jpg\n",
      "NOT FOUND\n",
      "httpafilesbiographycomimageuploadcfillcssrgbdprgfacehqwMTENDgMDUODczNDcNTcjpg.jpg\n",
      "NOT FOUND\n",
      "httpcdnpastemagazinecomwwwarticlesmindykalingndbookjpg.jpg\n",
      "NOT FOUND\n",
      "httpassetsrollingstonecomassetsarticlemadonnadavidbowiechangedthecourseofmylifeforeversmallsquarexmadonnabowiejpg.jpg\n",
      "NOT FOUND\n",
      "httpassetsrollingstonecomassetsimagesalbumreviewaffaceabdcccaeedjpg.jpg\n",
      "NOT FOUND\n",
      "httpcdncdnjustjaredcomwpcontentuploadsheadlinesmindykalingcomedypilotjpg.jpg\n",
      "NOT FOUND\n",
      "httpcdncdnjustjaredcomwpcontentuploadsheadlineseltonjohnsupportsbrucejennerstransitiontowomanjpg.jpg\n",
      "NOT FOUND\n",
      "httpcdnlyricssongonlyricsnetwpcontentuploadsEltonJohnDiscographyCDreleasesjpg.jpg\n",
      "NOT FOUND\n",
      "httpcdnssninsidercomwpcontentuploadsjerryseinfeldxjpg.jpg\n",
      "NOT FOUND\n",
      "httpcsvkmeuadecafjpg.jpg\n",
      "NOT FOUND\n",
      "httpcdncdnjustjaredcomwpcontentuploadsheadlineseltonjohnemmysperformancewatchnowjpg.jpg\n",
      "NOT FOUND\n",
      "httpdbrbzkkbdsdcloudfrontnetwpcontentuploadsMindyKalingjpg.jpg\n",
      "NOT FOUND\n",
      "httpcdnfuncheapcomwpcontentuploadsVOGUEjpg.jpg\n",
      "NOT FOUND\n",
      "httpaurorasblogcomwpcontentuploadsjerryseinfeldpublicityshotjpg.jpg\n",
      "NOT FOUND\n",
      "httpafilesbiographycomimageuploadcfillcssrgbdprgfacehqwMTEODAOTcxNjcMjczMjkzjpg.jpg\n",
      "NOT FOUND\n"
     ]
    }
   ],
   "source": [
    "for i in images_dir:\n",
    "    found = False\n",
    "    for imgs in image_dict:\n",
    "        if i in image_dict[imgs]:\n",
    "            found = True\n",
    "    \n",
    "    if found == False:\n",
    "        print(i)\n",
    "        print('NOT FOUND')"
   ]
  },
  {
   "cell_type": "code",
   "execution_count": null,
   "id": "b9f84a74-561a-4741-8d4c-77d04e6ae1a9",
   "metadata": {},
   "outputs": [],
   "source": []
  },
  {
   "cell_type": "code",
   "execution_count": null,
   "id": "3ce36778-360a-411a-99b9-cc0e754401c5",
   "metadata": {},
   "outputs": [],
   "source": []
  }
 ],
 "metadata": {
  "kernelspec": {
   "display_name": "Python [conda env:nlp] *",
   "language": "python",
   "name": "conda-env-nlp-py"
  },
  "language_info": {
   "codemirror_mode": {
    "name": "ipython",
    "version": 3
   },
   "file_extension": ".py",
   "mimetype": "text/x-python",
   "name": "python",
   "nbconvert_exporter": "python",
   "pygments_lexer": "ipython3",
   "version": "3.7.10"
  }
 },
 "nbformat": 4,
 "nbformat_minor": 5
}
